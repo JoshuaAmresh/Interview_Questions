{
 "cells": [
  {
   "cell_type": "markdown",
   "metadata": {},
   "source": [
    "### Mean Median Mode in skewed Distribution"
   ]
  },
  {
   "cell_type": "markdown",
   "metadata": {},
   "source": [
    "<img src = 'MeanMedianMode Skewed Data.PNG'/>"
   ]
  },
  {
   "cell_type": "markdown",
   "metadata": {},
   "source": [
    "### Central Limit Theorem"
   ]
  },
  {
   "cell_type": "markdown",
   "metadata": {},
   "source": [
    "How will you find the average size of sharks in the whole ocean?\n",
    "\n",
    "Answer: Central Limit theroem. Calculate sample means out of the population of sharks, and the mean of the sample means follows a guassian distribution with a mean which is more or less close to the mean of the population"
   ]
  },
  {
   "cell_type": "markdown",
   "metadata": {},
   "source": [
    "### What are the various types of sampling techniques?"
   ]
  },
  {
   "cell_type": "markdown",
   "metadata": {},
   "source": [
    "- Random Sampling : Taking random samples out of the data. If population is not large for stratified sampling, go for random sampling\n",
    "- Stratified Sampling : Taking equal ratio of data. For example, for exit poll survey taking survey from equal number of men and women surveys. If population is well large, go for stratified sampling.\n",
    "- System(atic) Sampling : Taking every nth data point from the population (example picking every 5th person in a line)\n",
    "- Cluster Sampling : Domain knowledge based sampling. Example, to see the future of AI we need to ask only the people who are experts in that field"
   ]
  },
  {
   "cell_type": "code",
   "execution_count": null,
   "metadata": {},
   "outputs": [],
   "source": []
  }
 ],
 "metadata": {
  "kernelspec": {
   "display_name": "Python 3 (ipykernel)",
   "language": "python",
   "name": "python3"
  },
  "language_info": {
   "codemirror_mode": {
    "name": "ipython",
    "version": 3
   },
   "file_extension": ".py",
   "mimetype": "text/x-python",
   "name": "python",
   "nbconvert_exporter": "python",
   "pygments_lexer": "ipython3",
   "version": "3.9.7"
  }
 },
 "nbformat": 4,
 "nbformat_minor": 2
}
